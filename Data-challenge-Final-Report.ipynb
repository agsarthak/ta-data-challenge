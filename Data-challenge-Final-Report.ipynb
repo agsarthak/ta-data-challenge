{
 "cells": [
  {
   "cell_type": "markdown",
   "metadata": {},
   "source": [
    "# Summary\n",
    "--------------\n",
    "Language: Python\n",
    "\n",
    "The challenge given was to find nearest airport for each user.\n",
    "\n",
    "There were aprroximately 1 million users and 6889 airports.\n",
    "\n",
    "I tried many techniques to solve this problem and learned new approaches as well. Below are some of them:\n",
    "\n",
    "1. Wrote a simple python script that calculates Haversine distance by iterating both the lists. Needless to say it was not time efficient at all.\n",
    "\n",
    "2. Then I tried various python geo libraries that calculates geo distance like geopandas, geopy, geog. Though they were giving correct results but they were low in performance.\n",
    "\n",
    "    I also parallelized the process using **Multiprocessing** library in Python. Though it decreased the execution time but I was not satisfied with the performance.\n",
    "\n",
    "3. Then I decided to opt for external in-memory database called **Redis**. This is the approach I have implemented below. I havent worked with Redis before so I learned it and decided to use it's geo module for distance calculation. As redis implements geodis with a time complexity of O(log(N)) I experienced that it was definitely faster. But it was not fast enough. I also ran a Redis cluster on AWS EC2 instance but it did not had any significant time improvements.\n",
    "\n",
    "4. If given more time I would like to implement a **MapReduce** solution to it using Spark as after trying the above techniques, I came to the conclusion that its better to treat it as a big data problem for best performance.\n",
    "\n",
    "---------------\n",
    "\n",
    "### Final Thoughts \n",
    "The final solution that I am submitting might not have the best performance but I enjoyed every bit of these five days of challenge as I learned alot of new tricks and techniques. I had this zeal of researching and coming up with an optimized solution the whole time. \n",
    "\n",
    "I definitely know that the best solution is through Spark and Lambda functions but as I am new to **dynamic programming**, its taking a little time to implement it. Anyways, I will not rest until I implement it even after the submission deadline.\n",
    "I would love to hear your feedback on if I was on the right track or not.\n",
    "\n",
    "-----------\n"
   ]
  },
  {
   "cell_type": "markdown",
   "metadata": {},
   "source": [
    "# Code begins below"
   ]
  },
  {
   "cell_type": "markdown",
   "metadata": {},
   "source": [
    "## Import required libraries"
   ]
  },
  {
   "cell_type": "code",
   "execution_count": 2,
   "metadata": {
    "collapsed": true
   },
   "outputs": [],
   "source": [
    "import pandas as pd\n",
    "import redis\n",
    "import csv\n",
    "import numpy as np\n",
    "import time"
   ]
  },
  {
   "cell_type": "markdown",
   "metadata": {},
   "source": [
    "## Import files into dataframe"
   ]
  },
  {
   "cell_type": "code",
   "execution_count": 3,
   "metadata": {
    "collapsed": false
   },
   "outputs": [],
   "source": [
    "user_data = pd.read_csv('../../tavel_audience_challenge/data/sample_data.csv')\n",
    "airport_data = pd.read_csv('../../tavel_audience_challenge/data/optd-sample-20161201.csv')"
   ]
  },
  {
   "cell_type": "markdown",
   "metadata": {},
   "source": [
    "## Check data\n",
    "\n",
    "Select top 5 rows"
   ]
  },
  {
   "cell_type": "code",
   "execution_count": 4,
   "metadata": {
    "collapsed": false,
    "scrolled": true
   },
   "outputs": [
    {
     "data": {
      "text/html": [
       "<div>\n",
       "<table border=\"1\" class=\"dataframe\">\n",
       "  <thead>\n",
       "    <tr style=\"text-align: right;\">\n",
       "      <th></th>\n",
       "      <th>uuid</th>\n",
       "      <th>geoip_latitude</th>\n",
       "      <th>geoip_longitude</th>\n",
       "    </tr>\n",
       "  </thead>\n",
       "  <tbody>\n",
       "    <tr>\n",
       "      <th>0</th>\n",
       "      <td>DDEFEBEA-98ED-49EB-A4E7-9D7BFDB7AA0B</td>\n",
       "      <td>-37.833302</td>\n",
       "      <td>145.050003</td>\n",
       "    </tr>\n",
       "    <tr>\n",
       "      <th>1</th>\n",
       "      <td>DAEF2221-14BE-467B-894A-F101CDCC38E4</td>\n",
       "      <td>52.516701</td>\n",
       "      <td>4.666700</td>\n",
       "    </tr>\n",
       "    <tr>\n",
       "      <th>2</th>\n",
       "      <td>31971B3E-2F80-4F8D-86BA-1F2077DF36A2</td>\n",
       "      <td>35.685001</td>\n",
       "      <td>139.751404</td>\n",
       "    </tr>\n",
       "    <tr>\n",
       "      <th>3</th>\n",
       "      <td>1A29A45C-D560-43D8-ADAB-C2F0AD068FFE</td>\n",
       "      <td>44.840401</td>\n",
       "      <td>-0.580500</td>\n",
       "    </tr>\n",
       "    <tr>\n",
       "      <th>4</th>\n",
       "      <td>A6EC281B-B8EC-465A-8933-F127472DB0A3</td>\n",
       "      <td>51.963299</td>\n",
       "      <td>4.499700</td>\n",
       "    </tr>\n",
       "  </tbody>\n",
       "</table>\n",
       "</div>"
      ],
      "text/plain": [
       "                                   uuid  geoip_latitude  geoip_longitude\n",
       "0  DDEFEBEA-98ED-49EB-A4E7-9D7BFDB7AA0B      -37.833302       145.050003\n",
       "1  DAEF2221-14BE-467B-894A-F101CDCC38E4       52.516701         4.666700\n",
       "2  31971B3E-2F80-4F8D-86BA-1F2077DF36A2       35.685001       139.751404\n",
       "3  1A29A45C-D560-43D8-ADAB-C2F0AD068FFE       44.840401        -0.580500\n",
       "4  A6EC281B-B8EC-465A-8933-F127472DB0A3       51.963299         4.499700"
      ]
     },
     "execution_count": 4,
     "metadata": {},
     "output_type": "execute_result"
    }
   ],
   "source": [
    "user_data.head()"
   ]
  },
  {
   "cell_type": "code",
   "execution_count": 13,
   "metadata": {
    "collapsed": false
   },
   "outputs": [
    {
     "data": {
      "text/plain": [
       "996980"
      ]
     },
     "execution_count": 13,
     "metadata": {},
     "output_type": "execute_result"
    }
   ],
   "source": [
    "user_data['uuid'].nunique()"
   ]
  },
  {
   "cell_type": "markdown",
   "metadata": {},
   "source": [
    "**There are some duplicate uuid in the data.** Total records are 1 million but unique number of uuid is 996980. "
   ]
  },
  {
   "cell_type": "code",
   "execution_count": 10,
   "metadata": {
    "collapsed": false
   },
   "outputs": [
    {
     "data": {
      "text/html": [
       "<div>\n",
       "<table border=\"1\" class=\"dataframe\">\n",
       "  <thead>\n",
       "    <tr style=\"text-align: right;\">\n",
       "      <th></th>\n",
       "      <th>iata_code</th>\n",
       "      <th>latitude</th>\n",
       "      <th>longitude</th>\n",
       "    </tr>\n",
       "  </thead>\n",
       "  <tbody>\n",
       "    <tr>\n",
       "      <th>0</th>\n",
       "      <td>AAA</td>\n",
       "      <td>-17.352606</td>\n",
       "      <td>-145.509956</td>\n",
       "    </tr>\n",
       "    <tr>\n",
       "      <th>1</th>\n",
       "      <td>AAB</td>\n",
       "      <td>-26.693170</td>\n",
       "      <td>141.047800</td>\n",
       "    </tr>\n",
       "    <tr>\n",
       "      <th>2</th>\n",
       "      <td>AAC</td>\n",
       "      <td>31.073330</td>\n",
       "      <td>33.835830</td>\n",
       "    </tr>\n",
       "    <tr>\n",
       "      <th>3</th>\n",
       "      <td>AAE</td>\n",
       "      <td>36.822225</td>\n",
       "      <td>7.809167</td>\n",
       "    </tr>\n",
       "    <tr>\n",
       "      <th>4</th>\n",
       "      <td>AAF</td>\n",
       "      <td>29.729380</td>\n",
       "      <td>-85.028800</td>\n",
       "    </tr>\n",
       "  </tbody>\n",
       "</table>\n",
       "</div>"
      ],
      "text/plain": [
       "  iata_code   latitude   longitude\n",
       "0       AAA -17.352606 -145.509956\n",
       "1       AAB -26.693170  141.047800\n",
       "2       AAC  31.073330   33.835830\n",
       "3       AAE  36.822225    7.809167\n",
       "4       AAF  29.729380  -85.028800"
      ]
     },
     "execution_count": 10,
     "metadata": {},
     "output_type": "execute_result"
    }
   ],
   "source": [
    "airport_data.head()"
   ]
  },
  {
   "cell_type": "markdown",
   "metadata": {},
   "source": [
    "## Convert pandas dataframe to matrix "
   ]
  },
  {
   "cell_type": "code",
   "execution_count": 5,
   "metadata": {
    "collapsed": true
   },
   "outputs": [],
   "source": [
    "user_data_np = user_data.as_matrix()\n",
    "airport_data_np = airport_data.as_matrix()"
   ]
  },
  {
   "cell_type": "markdown",
   "metadata": {},
   "source": [
    "## Connect to Redis Server"
   ]
  },
  {
   "cell_type": "code",
   "execution_count": 8,
   "metadata": {
    "collapsed": true
   },
   "outputs": [],
   "source": [
    "r = redis.StrictRedis(host='localhost', port=6379, db=0)"
   ]
  },
  {
   "cell_type": "markdown",
   "metadata": {},
   "source": [
    "## Add user and airport data to redis geo set"
   ]
  },
  {
   "cell_type": "code",
   "execution_count": 9,
   "metadata": {
    "collapsed": false
   },
   "outputs": [],
   "source": [
    "# add user data to geo set\n",
    "for row in user_data_np:\n",
    "    r.geoadd(\"data\", row[2], row[1], row[0])"
   ]
  },
  {
   "cell_type": "code",
   "execution_count": 7,
   "metadata": {
    "collapsed": false
   },
   "outputs": [],
   "source": [
    "# read airport data into redis geo set\n",
    "for row1 in airport_data_np:\n",
    "    r.geoadd(\"data\", row1[2], row1[1], row1[0])"
   ]
  },
  {
   "cell_type": "markdown",
   "metadata": {},
   "source": [
    "## Create two lists having airport names and uuid."
   ]
  },
  {
   "cell_type": "code",
   "execution_count": 11,
   "metadata": {
    "collapsed": true
   },
   "outputs": [],
   "source": [
    "airp = []\n",
    "for i in r.zrange(\"data\", 0, -1):\n",
    "    if len(i)==3:\n",
    "        airp.append(i)"
   ]
  },
  {
   "cell_type": "code",
   "execution_count": 12,
   "metadata": {
    "collapsed": true
   },
   "outputs": [],
   "source": [
    "uuser = []\n",
    "for i in r.zrange(\"data\", 0, -1):\n",
    "    if len(i) > 3:\n",
    "        uuser.append(i)"
   ]
  },
  {
   "cell_type": "markdown",
   "metadata": {},
   "source": [
    "## Find the nearest airport.\n",
    "\n",
    "Below code will output a dictionary that will have uuid and nearest airport.\n",
    "I am leveraging Redis geodist() that is efficient in calculating geodistance in a set."
   ]
  },
  {
   "cell_type": "code",
   "execution_count": null,
   "metadata": {
    "collapsed": true
   },
   "outputs": [],
   "source": [
    "start = time.time()\n",
    "\n",
    "distt = {}\n",
    "for i in uuser: # iterate over each user\n",
    "    dis_a = {}\n",
    "    for j in airp: # iterate over each airport\n",
    "        dis_a[j] = r.geodist(\"data\", i, j) # calculate geo distance for each user with all airports.\n",
    "    distt[i] = min(dis_a, key=dis_a.get) # find the minimum and save it in a dictionary.\n",
    "    \n",
    "end = time.time()\n",
    "print((end - start)/60) # print time taken to execute the program."
   ]
  },
  {
   "cell_type": "markdown",
   "metadata": {},
   "source": [
    "## Write the output file to csv."
   ]
  },
  {
   "cell_type": "code",
   "execution_count": null,
   "metadata": {
    "collapsed": true
   },
   "outputs": [],
   "source": [
    "with open('final_output.csv', 'w') as f:\n",
    "    w = csv.DictWriter(f, distt.keys())\n",
    "    w.writeheader()\n",
    "    w.writerow(distt)"
   ]
  }
 ],
 "metadata": {
  "kernelspec": {
   "display_name": "Python [conda root]",
   "language": "python",
   "name": "conda-root-py"
  },
  "language_info": {
   "codemirror_mode": {
    "name": "ipython",
    "version": 3
   },
   "file_extension": ".py",
   "mimetype": "text/x-python",
   "name": "python",
   "nbconvert_exporter": "python",
   "pygments_lexer": "ipython3",
   "version": "3.5.2"
  }
 },
 "nbformat": 4,
 "nbformat_minor": 2
}
